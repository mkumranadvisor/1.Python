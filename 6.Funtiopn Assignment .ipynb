{
 "cells": [
  {
   "cell_type": "code",
   "execution_count": 61,
   "id": "1ada00aa-817b-4b99-9aa7-ad081fb2f100",
   "metadata": {},
   "outputs": [],
   "source": [
    "lists=[\"Sub-fields in AI are:\",\"MachineLearning\", \"Neural Networks\", \"Vision\", \"obotics\", \"Speech Processing\", \"Natural Language Processing\"]\n",
    "def AIfields():\n",
    "    for subfieldsinAI in lists:\n",
    "        print(subfieldsinAI)\n",
    "    "
   ]
  },
  {
   "cell_type": "code",
   "execution_count": 63,
   "id": "c965de42-11a4-4733-b3dd-de700aa77734",
   "metadata": {},
   "outputs": [
    {
     "name": "stdout",
     "output_type": "stream",
     "text": [
      "Sub-fields in AI are:\n",
      "MachineLearning\n",
      "Neural Networks\n",
      "Vision\n",
      "obotics\n",
      "Speech Processing\n",
      "Natural Language Processing\n"
     ]
    }
   ],
   "source": [
    "AIfields()"
   ]
  },
  {
   "cell_type": "code",
   "execution_count": 75,
   "id": "0c6e1f70-009a-4e70-a8c7-ad03236b5568",
   "metadata": {},
   "outputs": [],
   "source": [
    "def num1():\n",
    "    num=int(input(\"Enter a num:\"))\n",
    "    if((num%2)==0):\n",
    "        print(num,\"is Even number\")\n",
    "    else:\n",
    "        print(num,\"Odd number\")"
   ]
  },
  {
   "cell_type": "code",
   "execution_count": 77,
   "id": "65aa887d-9191-4c6a-9f28-c06cf45f7315",
   "metadata": {},
   "outputs": [
    {
     "name": "stdin",
     "output_type": "stream",
     "text": [
      "Enter a num: 52452\n"
     ]
    },
    {
     "name": "stdout",
     "output_type": "stream",
     "text": [
      "52452 is Even number\n"
     ]
    }
   ],
   "source": [
    "num1()"
   ]
  },
  {
   "cell_type": "code",
   "execution_count": 119,
   "id": "2efd40a6-3d18-4bf0-a271-159a67e8e15f",
   "metadata": {},
   "outputs": [
    {
     "name": "stdin",
     "output_type": "stream",
     "text": [
      "your gender: MALE\n",
      "your age: 20\n"
     ]
    },
    {
     "name": "stdout",
     "output_type": "stream",
     "text": [
      "NOT ELIGIBLE\n"
     ]
    }
   ],
   "source": [
    "Gender=input(\"your gender:\")\n",
    "age=int(input(\"your age:\"))\n",
    "if(age<25):\n",
    "   print(\"NOT ELIGIBLE\")\n",
    "else:\n",
    "   print(\"ELIGIBLE\")"
   ]
  },
  {
   "cell_type": "code",
   "execution_count": 137,
   "id": "03dea15d-270a-4185-a544-0d7bbb907a79",
   "metadata": {},
   "outputs": [],
   "source": [
    "def ElegiblityForMarriage():\n",
    "    Gender=input(\"your Gender:\")\n",
    "    age=int(input(\"your Age:\"))\n",
    "    if(age<25):\n",
    "       print(\"NOT ELIGIBLE\")\n",
    "       EFM=\"NOT ELIGIBLE\"\n",
    "    else:\n",
    "       print(\"ELIGIBLE\")\n",
    "       EFM=\"NOT ELIGIBLE\"\n",
    "    return EFM "
   ]
  },
  {
   "cell_type": "code",
   "execution_count": 143,
   "id": "e714a8d0-7f9b-4b90-89e9-ae6988c577cc",
   "metadata": {},
   "outputs": [
    {
     "name": "stdin",
     "output_type": "stream",
     "text": [
      "your Gender: MALE\n",
      "your Age: 20\n"
     ]
    },
    {
     "name": "stdout",
     "output_type": "stream",
     "text": [
      "NOT ELIGIBLE\n"
     ]
    }
   ],
   "source": [
    "Marriageindex=ElegiblityForMarriage()"
   ]
  },
  {
   "cell_type": "code",
   "execution_count": 145,
   "id": "a0abef45-babc-4d3d-bb06-3b17fd35074e",
   "metadata": {},
   "outputs": [
    {
     "data": {
      "text/plain": [
       "'NOT ELIGIBLE'"
      ]
     },
     "execution_count": 145,
     "metadata": {},
     "output_type": "execute_result"
    }
   ],
   "source": [
    "Marriageindex"
   ]
  },
  {
   "cell_type": "code",
   "execution_count": 151,
   "id": "65acffbb-9040-4283-b93a-2faad69d43fb",
   "metadata": {},
   "outputs": [
    {
     "name": "stdin",
     "output_type": "stream",
     "text": [
      "your Gender: MALE\n",
      "your Age: 20\n"
     ]
    },
    {
     "name": "stdout",
     "output_type": "stream",
     "text": [
      "NOT ELIGIBLE\n"
     ]
    }
   ],
   "source": [
    "Marriageindex=ElegiblityForMarriage()"
   ]
  },
  {
   "cell_type": "code",
   "execution_count": 203,
   "id": "c70acda7-417b-4488-9e19-8845acb85724",
   "metadata": {},
   "outputs": [
    {
     "name": "stdin",
     "output_type": "stream",
     "text": [
      "Subject1= 98\n",
      "Subject2= 87\n",
      "Subject3= 95\n",
      "Subject4= 95\n",
      "Subject5= 93\n"
     ]
    },
    {
     "name": "stdout",
     "output_type": "stream",
     "text": [
      "Total: 468\n",
      "percentage: 93.60000000000001\n"
     ]
    }
   ],
   "source": [
    "Sub1=int(input(\"Subject1=\"))\n",
    "Sub2=int(input(\"Subject2=\"))\n",
    "Sub3=int(input(\"Subject3=\"))\n",
    "Sub4=int(input(\"Subject4=\"))\n",
    "Sub5=int(input(\"Subject5=\"))\n",
    "Total=Sub1+Sub2+Sub3+Sub4+Sub5\n",
    "print(\"Total:\",Total)\n",
    "percentage=float(Total)*(100/500)\n",
    "print(\"percentage:\",percentage)"
   ]
  },
  {
   "cell_type": "code",
   "execution_count": 225,
   "id": "39032d08-0e1e-4ac0-a53f-300997f4b212",
   "metadata": {},
   "outputs": [],
   "source": [
    "# calculate the percentage of your 10th mark using function\n",
    "def percentage():\n",
    "    Sub1=int(input(\"Subject1=\"))\n",
    "    Sub2=int(input(\"Subject2=\"))\n",
    "    Sub3=int(input(\"Subject3=\"))\n",
    "    Sub4=int(input(\"Subject4=\"))\n",
    "    Sub5=int(input(\"Subject5=\"))\n",
    "    Total=Sub1+Sub2+Sub3+Sub4+Sub5\n",
    "    print(\"Total:\",Total)\n",
    "    percentage=float(Total)*(100/500)\n",
    "    print(\"percentage:\",percentage)\n",
    "       \n",
    "   "
   ]
  },
  {
   "cell_type": "code",
   "execution_count": 227,
   "id": "a359012b-510b-4012-b800-3ee942d82f15",
   "metadata": {},
   "outputs": [
    {
     "name": "stdin",
     "output_type": "stream",
     "text": [
      "Subject1= 98\n",
      "Subject2= 87\n",
      "Subject3= 95\n",
      "Subject4= 95\n",
      "Subject5= 93\n"
     ]
    },
    {
     "name": "stdout",
     "output_type": "stream",
     "text": [
      "Total: 468\n",
      "percentage: 93.60000000000001\n"
     ]
    }
   ],
   "source": [
    "percentage()"
   ]
  },
  {
   "cell_type": "code",
   "execution_count": 233,
   "id": "911ea212-87ae-4ab1-8a43-4351c17ead47",
   "metadata": {},
   "outputs": [
    {
     "name": "stdout",
     "output_type": "stream",
     "text": [
      "544.0\n"
     ]
    }
   ],
   "source": [
    "Height=32\n",
    "Breadth=34\n",
    "Areaformula=(Height*Breadth)/2\n",
    "print(Areaformula)"
   ]
  },
  {
   "cell_type": "code",
   "execution_count": null,
   "id": "362699d9-a714-4391-89e7-c617b4a390dd",
   "metadata": {},
   "outputs": [],
   "source": [
    "Height=int(input(\"Height:\"))\n",
    "Breadth=int(input(\"Breadth:\"))\n",
    "Areaformula=(Height*Breadth)/2\n",
    "print(\"Areaformula=(Height*Breadth)/2\")\n",
    "print(\"Area of Triangle:\",Areaformula)\n",
    "Height1=int(input(\"Height1:\"))\n",
    "Height2=int(input(\"Height2:\"))\n",
    "Breadth2=int(input(\"Breadth2:\"))\n",
    "print(\"Perimeter formula: Height1+Height2+Breadth\")\n",
    "Perimeterformula=Height1+Height2+Breadth2\n",
    "print(\"Perimeter of Triangle:\",Perimeterformula)\n"
   ]
  },
  {
   "cell_type": "code",
   "execution_count": 251,
   "id": "1d9aaacb-62ca-4a7c-beab-059750625420",
   "metadata": {},
   "outputs": [],
   "source": [
    "#print area and perimeter of triangle using class and functions\n",
    "def triangle():\n",
    "    Height=int(input(\"Height:\"))\n",
    "    Breadth=int(input(\"Breadth:\"))\n",
    "    Areaformula=(Height*Breadth)/2\n",
    "    print(\"Areaformula=(Height*Breadth)/2\")\n",
    "    print(\"Area of Triangle:\",Areaformula)\n",
    "    Height1=int(input(\"Height1:\"))\n",
    "    Height2=int(input(\"Height2:\"))\n",
    "    Breadth2=int(input(\"Breadth2:\"))\n",
    "    print(\"Perimeter formula: Height1+Height2+Breadth\")\n",
    "    Perimeterformula=Height1+Height2+Breadth2\n",
    "    print(\"Perimeter of Triangle:\",Perimeterformula)\n",
    "\n"
   ]
  },
  {
   "cell_type": "code",
   "execution_count": 255,
   "id": "336c5eb2-7bd6-4e07-a486-8be2223262b4",
   "metadata": {},
   "outputs": [
    {
     "name": "stdin",
     "output_type": "stream",
     "text": [
      "Height: 32\n",
      "Breadth: 34\n"
     ]
    },
    {
     "name": "stdout",
     "output_type": "stream",
     "text": [
      "Areaformula=(Height*Breadth)/2\n",
      "Area of Triangle: 544.0\n"
     ]
    },
    {
     "name": "stdin",
     "output_type": "stream",
     "text": [
      "Height1: 2\n",
      "Height2: 4\n",
      "Breadth2: 4\n"
     ]
    },
    {
     "name": "stdout",
     "output_type": "stream",
     "text": [
      "Perimeter formula: Height1+Height2+Breadth\n",
      "Perimeter of Triangle: 10\n"
     ]
    }
   ],
   "source": [
    "triangle()"
   ]
  },
  {
   "cell_type": "code",
   "execution_count": null,
   "id": "0f0b8704-c6de-4df9-950b-ae7f86eeedfb",
   "metadata": {},
   "outputs": [],
   "source": []
  }
 ],
 "metadata": {
  "kernelspec": {
   "display_name": "Python [conda env:base] *",
   "language": "python",
   "name": "conda-base-py"
  },
  "language_info": {
   "codemirror_mode": {
    "name": "ipython",
    "version": 3
   },
   "file_extension": ".py",
   "mimetype": "text/x-python",
   "name": "python",
   "nbconvert_exporter": "python",
   "pygments_lexer": "ipython3",
   "version": "3.12.7"
  }
 },
 "nbformat": 4,
 "nbformat_minor": 5
}
