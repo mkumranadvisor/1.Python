{
 "cells": [
  {
   "cell_type": "code",
   "execution_count": 1,
   "id": "15d789af-d52b-459c-8c9f-47d3a14c0544",
   "metadata": {},
   "outputs": [
    {
     "name": "stdout",
     "output_type": "stream",
     "text": [
      "Welcome to Assignment-1\n"
     ]
    }
   ],
   "source": [
    "print(\"Welcome to Assignment-1\")"
   ]
  },
  {
   "cell_type": "code",
   "execution_count": 19,
   "id": "f8b8168b-045e-4581-9283-c8ee40e6d66d",
   "metadata": {},
   "outputs": [
    {
     "name": "stdout",
     "output_type": "stream",
     "text": [
      "Num1= 10\n",
      "Num2= 30\n",
      "Add= 40\n"
     ]
    }
   ],
   "source": [
    "print(\"Num1= 10\")\n",
    "print(\"Num2= 30\")\n",
    "print(\"Add= 40\")"
   ]
  },
  {
   "cell_type": "code",
   "execution_count": null,
   "id": "7e233e77-0744-4ea4-ba47-9378ed92b59d",
   "metadata": {},
   "outputs": [],
   "source": [
    "#Body Mass Index"
   ]
  },
  {
   "cell_type": "markdown",
   "id": "70fd31ab-7e24-4fa4-be60-e47359ec89a9",
   "metadata": {},
   "source": [
    "BMI<18--->Under Weight\n",
    "BMI<25--->Healthy Weight\n",
    "BMI<35--->Very OverWeight\n",
    "BMI<40--->Obese\n"
   ]
  },
  {
   "cell_type": "code",
   "execution_count": 47,
   "id": "a0e6bfb9-5e18-4bec-9b21-af44e16ae7e3",
   "metadata": {},
   "outputs": [
    {
     "name": "stdin",
     "output_type": "stream",
     "text": [
      "Enter the BMI Index: 34\n"
     ]
    },
    {
     "name": "stdout",
     "output_type": "stream",
     "text": [
      "Very OverWeight\n"
     ]
    }
   ],
   "source": [
    "BMI=int(input(\"Enter the BMI Index:\"))\n",
    "if (BMI<18):\n",
    "    print(\"Under weight\")\n",
    "elif(BMI<25):\n",
    "    print(\"Healthy Weight\")\n",
    "elif(BMI<35):\n",
    "    print(\"Very OverWeight\")\n",
    "else:\n",
    "    print(\"Obese\")\n",
    "\n"
   ]
  },
  {
   "cell_type": "code",
   "execution_count": null,
   "id": "58a67799-1d8f-4963-ac36-9faa8ea0c5e5",
   "metadata": {},
   "outputs": [],
   "source": []
  },
  {
   "cell_type": "code",
   "execution_count": null,
   "id": "3933af08-19d1-49f9-8d5c-59a5fabeaac6",
   "metadata": {},
   "outputs": [],
   "source": []
  }
 ],
 "metadata": {
  "kernelspec": {
   "display_name": "Python [conda env:base] *",
   "language": "python",
   "name": "conda-base-py"
  },
  "language_info": {
   "codemirror_mode": {
    "name": "ipython",
    "version": 3
   },
   "file_extension": ".py",
   "mimetype": "text/x-python",
   "name": "python",
   "nbconvert_exporter": "python",
   "pygments_lexer": "ipython3",
   "version": "3.12.7"
  }
 },
 "nbformat": 4,
 "nbformat_minor": 5
}
